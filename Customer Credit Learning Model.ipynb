{
 "cells": [
  {
   "cell_type": "markdown",
   "metadata": {},
   "source": [
    "# Customer Credit Learning Model"
   ]
  },
  {
   "cell_type": "markdown",
   "metadata": {},
   "source": [
    "This program will give a decision whether a customer would delay a payment or not. The program reads invoice data; take Customer Name, Invoice Value and Credit Days as put and gives a decision whether a customer will delay the payment or not."
   ]
  },
  {
   "cell_type": "markdown",
   "metadata": {},
   "source": [
    "### Import Libraries"
   ]
  },
  {
   "cell_type": "code",
   "execution_count": 57,
   "metadata": {},
   "outputs": [],
   "source": [
    "%matplotlib notebook\n",
    "import matplotlib.pyplot as plt\n",
    "import pandas as pd\n",
    "import numpy as np\n",
    "import seaborn as sn"
   ]
  },
  {
   "cell_type": "markdown",
   "metadata": {},
   "source": [
    "### Read and examine data"
   ]
  },
  {
   "cell_type": "code",
   "execution_count": 58,
   "metadata": {},
   "outputs": [],
   "source": [
    "credit = pd.read_csv(\"/Users/surendraorupalli/Documents/Softcell Apple SBU/Operations/Customer Credit Analysis/credit_data.csv\")"
   ]
  },
  {
   "cell_type": "code",
   "execution_count": 70,
   "metadata": {},
   "outputs": [],
   "source": [
    "credit.head(0)"
   ]
  },
  {
   "cell_type": "code",
   "execution_count": 60,
   "metadata": {},
   "outputs": [
    {
     "data": {
      "text/plain": [
       "(2776, 50)"
      ]
     },
     "execution_count": 60,
     "metadata": {},
     "output_type": "execute_result"
    }
   ],
   "source": [
    "credit.shape"
   ]
  },
  {
   "cell_type": "code",
   "execution_count": 71,
   "metadata": {},
   "outputs": [],
   "source": [
    "column_names = list(credit.columns.values)\n",
    "print(column_names)"
   ]
  },
  {
   "cell_type": "code",
   "execution_count": 62,
   "metadata": {},
   "outputs": [],
   "source": [
    "credit['Group Customer Name'] = credit['Group Customer Name'].astype('category')\n",
    "credit['CustomerID'] = credit['Group Customer Name'].cat.codes"
   ]
  },
  {
   "cell_type": "code",
   "execution_count": 73,
   "metadata": {},
   "outputs": [
    {
     "name": "stdout",
     "output_type": "stream",
     "text": [
      "(2776, 3)\n",
      "(2776,)\n"
     ]
    }
   ],
   "source": [
    "X_credit = credit[[\n",
    " 'CustomerID',\n",
    " 'Sum of Gross Total',\n",
    " 'Credit Days']]\n",
    "\n",
    "y_credit = credit['Compliance']\n",
    "\n",
    "print(X_credit.shape)\n",
    "print(y_credit.shape)"
   ]
  },
  {
   "cell_type": "markdown",
   "metadata": {},
   "source": [
    "### Training the classifier"
   ]
  },
  {
   "cell_type": "code",
   "execution_count": 64,
   "metadata": {},
   "outputs": [],
   "source": [
    "from sklearn.model_selection import train_test_split\n",
    "\n",
    "X_train, X_test, y_train, y_test = train_test_split(X_credit, y_credit, random_state=0)"
   ]
  },
  {
   "cell_type": "code",
   "execution_count": 65,
   "metadata": {},
   "outputs": [
    {
     "name": "stdout",
     "output_type": "stream",
     "text": [
      "Accuracy of Decision Tree classifier on training set: 0.82\n",
      "Accuracy of Decision Tree classifier on test set: 0.83\n"
     ]
    }
   ],
   "source": [
    "from sklearn.tree import DecisionTreeClassifier\n",
    "from adspy_shared_utilities import plot_decision_tree\n",
    "from sklearn import tree\n",
    "\n",
    "clf = tree.DecisionTreeClassifier(max_depth=5).fit(X_train, y_train)\n",
    "\n",
    "print('Accuracy of Decision Tree classifier on training set: {:.2f}'\n",
    "     .format(clf.score(X_train, y_train)))\n",
    "print('Accuracy of Decision Tree classifier on test set: {:.2f}'\n",
    "     .format(clf.score(X_test, y_test)))"
   ]
  },
  {
   "cell_type": "markdown",
   "metadata": {},
   "source": [
    "### Predicting whether customer will delay a payment"
   ]
  },
  {
   "cell_type": "code",
   "execution_count": 74,
   "metadata": {},
   "outputs": [],
   "source": [
    "credit_new = credit.set_index('Group Customer Name')\n",
    "credit_new\n",
    "customer_filter = credit_new.filter(like='Cognizant', axis=0)\n",
    "get_customer_name = customer_filter['CustomerID']\n",
    "\n",
    "custmer_namelist = customer_filter.index.tolist()\n",
    "CustomerName = custmer_namelist[0]\n",
    "\n",
    "print(CustomerName + \" has a CustomerID of \" + str(get_customer_name[1]))"
   ]
  },
  {
   "cell_type": "code",
   "execution_count": 75,
   "metadata": {},
   "outputs": [],
   "source": [
    "CustomerID = 66\n",
    "GrossTotal = 350000\n",
    "CreditDays = 60\n",
    "\n",
    "result = clf.predict([[CustomerID, GrossTotal, CreditDays]])\n",
    "prob = clf.predict_proba([[CustomerID, GrossTotal, CreditDays]])\n",
    "\n",
    "x = []\n",
    "if result == 0:\n",
    "    x = \"will delay payment\"\n",
    "else:\n",
    "    x = \"will not delay payment\"\n",
    "\n",
    "CustomerName = credit.loc[credit['CustomerID']==CustomerID , 'Group Customer Name']\n",
    "\n",
    "print(CustomerName[0] + \" \" + x )"
   ]
  },
  {
   "cell_type": "markdown",
   "metadata": {},
   "source": [
    "### Exporting the decision tree graph"
   ]
  },
  {
   "cell_type": "code",
   "execution_count": 68,
   "metadata": {},
   "outputs": [
    {
     "data": {
      "text/plain": [
       "'credit.pdf'"
      ]
     },
     "execution_count": 68,
     "metadata": {},
     "output_type": "execute_result"
    }
   ],
   "source": [
    "import graphviz\n",
    "\n",
    "dot_data = tree.export_graphviz(clf, out_file=None)\n",
    "\n",
    "graph = graphviz.Source(dot_data)\n",
    "\n",
    "graph.render(\"credit\") "
   ]
  }
 ],
 "metadata": {
  "kernelspec": {
   "display_name": "Python 3",
   "language": "python",
   "name": "python3"
  },
  "language_info": {
   "codemirror_mode": {
    "name": "ipython",
    "version": 3
   },
   "file_extension": ".py",
   "mimetype": "text/x-python",
   "name": "python",
   "nbconvert_exporter": "python",
   "pygments_lexer": "ipython3",
   "version": "3.6.6"
  }
 },
 "nbformat": 4,
 "nbformat_minor": 2
}
