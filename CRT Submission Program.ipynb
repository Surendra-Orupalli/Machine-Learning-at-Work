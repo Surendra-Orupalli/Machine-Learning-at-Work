{
 "cells": [
  {
   "cell_type": "markdown",
   "metadata": {},
   "source": [
    "# Python Program for CRT Submission Report\n",
    "#### Surendra Orupalli, Softcell Technologies Ltd, 04-Oct-2018"
   ]
  },
  {
   "cell_type": "markdown",
   "metadata": {},
   "source": [
    "### Fireup Python Libraries"
   ]
  },
  {
   "cell_type": "code",
   "execution_count": 226,
   "metadata": {},
   "outputs": [],
   "source": [
    "import sklearn\n",
    "import pandas as pd\n",
    "import numpy as np\n",
    "import matplotlib.pyplot as plt"
   ]
  },
  {
   "cell_type": "markdown",
   "metadata": {},
   "source": [
    "### Reading the required data files"
   ]
  },
  {
   "cell_type": "code",
   "execution_count": 227,
   "metadata": {},
   "outputs": [],
   "source": [
    "invoices = pd.read_csv(\"/Users/surendraorupalli/Desktop/Python_W3R/CRT/invoice_billing_report.csv\")\n",
    "#crt = pd.read_csv(\"/Users/surendraorupalli/Desktop/Python_W3R/CRT/crt_list.csv\", encoding = \"ISO-8859-1\")\n",
    "regions = pd.read_excel(\"/Users/surendraorupalli/Desktop/Python_W3R/CRT/regions.xls\")\n",
    "submits = pd.read_excel(\"/Users/surendraorupalli/Desktop/Python_W3R/CRT/crt_report.xls\")"
   ]
  },
  {
   "cell_type": "code",
   "execution_count": 228,
   "metadata": {},
   "outputs": [],
   "source": [
    "major = pd.read_excel(\"/Users/surendraorupalli/Desktop/Python_W3R/CRT/CRT_CustomerData_IN_861.xls\")\n",
    "header = major.iloc[0]\n",
    "major = major[1:]\n",
    "major = major.rename(columns = header)\n",
    "\n",
    "major['Major/Named'] = 'Major'\n",
    "major_named = major['Major/Named']\n",
    "major.drop(labels=['Major/Named'], axis=1, inplace = True)\n",
    "major.insert(0, 'Major/Named', major_named)"
   ]
  },
  {
   "cell_type": "code",
   "execution_count": 229,
   "metadata": {},
   "outputs": [],
   "source": [
    "named = pd.read_excel(\"/Users/surendraorupalli/Desktop/Python_W3R/CRT/CRT_CustomerData_IN_1112.xls\")\n",
    "header = named.iloc[0]\n",
    "named = named[1:]\n",
    "named = named.rename(columns = header)\n",
    "\n",
    "named['Major/Named'] = 'Named'\n",
    "major_named = named['Major/Named']\n",
    "named.drop(labels=['Major/Named'], axis=1, inplace = True)\n",
    "named.insert(0, 'Major/Named', major_named)"
   ]
  },
  {
   "cell_type": "code",
   "execution_count": 230,
   "metadata": {},
   "outputs": [],
   "source": [
    "extras = pd.read_excel(\"/Users/surendraorupalli/Desktop/Python_W3R/CRT/extras_2019-01-15.xls\")"
   ]
  },
  {
   "cell_type": "code",
   "execution_count": 231,
   "metadata": {},
   "outputs": [],
   "source": [
    "crt = pd.concat([major, named, extras], ignore_index=True, sort=False)"
   ]
  },
  {
   "cell_type": "markdown",
   "metadata": {},
   "source": [
    "### Preparing the invoice data"
   ]
  },
  {
   "cell_type": "code",
   "execution_count": 1,
   "metadata": {},
   "outputs": [],
   "source": [
    "i1 = pd.Series(invoices['Customer Name'])\n",
    "i2 = i1.str.split(\" \")\n",
    "i3 = i2.str.get(0)\n",
    "i4 = i3.str.upper()\n",
    "\n",
    "invoices.insert(loc=0, column='Customer', value=i4)\n",
    "\n",
    "regions.head()"
   ]
  },
  {
   "cell_type": "markdown",
   "metadata": {},
   "source": [
    "##### Merging the invoice data and regions (North, West and South)"
   ]
  },
  {
   "cell_type": "code",
   "execution_count": 2,
   "metadata": {},
   "outputs": [],
   "source": [
    "invoices1 = invoices.merge(regions, on='Branch Name', how='left')\n",
    "invoices1.head()"
   ]
  },
  {
   "cell_type": "markdown",
   "metadata": {},
   "source": [
    "### Preparing the CRT List of Major and Named Accounts"
   ]
  },
  {
   "cell_type": "code",
   "execution_count": 3,
   "metadata": {},
   "outputs": [],
   "source": [
    "c1 = pd.Series(crt['COMPANY'])\n",
    "c2 = c1.str.split(\" \")\n",
    "c3 = c2.str.get(0)\n",
    "c4 = c3.str.upper()\n",
    "\n",
    "crt1 = crt.drop(columns=['CUSTOMER ID', 'COMPANY', 'ADDRESS 1', 'CITY', 'POST CODE', 'COUNTRY'])\n",
    "crt2 = crt1.insert(loc=0, column='Customer', value=c4)\n",
    "\n",
    "crt1.head()"
   ]
  },
  {
   "cell_type": "markdown",
   "metadata": {},
   "source": [
    "##### Merging the invoice data and CRT List (Major and Named)"
   ]
  },
  {
   "cell_type": "code",
   "execution_count": 4,
   "metadata": {},
   "outputs": [],
   "source": [
    "invoices2 = invoices1.merge(crt1, on='Customer', how='left')\n",
    "invoices2.head()"
   ]
  },
  {
   "cell_type": "markdown",
   "metadata": {},
   "source": [
    "### Preparing CRT submits data"
   ]
  },
  {
   "cell_type": "code",
   "execution_count": 5,
   "metadata": {},
   "outputs": [],
   "source": [
    "s1 = submits.rename(index=str, columns={\"Invoice Number\": \"Softcell Invoice Number\"})\n",
    "s2 = s1[['Softcell Invoice Number', 'Total Rebate (LC)']]\n",
    "s2.head()"
   ]
  },
  {
   "cell_type": "markdown",
   "metadata": {},
   "source": [
    "##### Merging invoice data and CRT submits data"
   ]
  },
  {
   "cell_type": "code",
   "execution_count": 6,
   "metadata": {},
   "outputs": [],
   "source": [
    "invoices3 = invoices2.merge(s2, on='Softcell Invoice Number', how='left')\n",
    "invoices3.head()"
   ]
  },
  {
   "cell_type": "markdown",
   "metadata": {},
   "source": [
    "### Convert Region to Dheeraj if Major/Named is Dheeraj"
   ]
  },
  {
   "cell_type": "code",
   "execution_count": 238,
   "metadata": {},
   "outputs": [],
   "source": [
    "invoices3.loc[invoices3['Major/Named'] == \"Dheeraj\", 'Region'] = \"Dheeraj\""
   ]
  },
  {
   "cell_type": "code",
   "execution_count": 239,
   "metadata": {},
   "outputs": [],
   "source": [
    "def f(row):\n",
    "    if row['Major/Named'] == \"Major\":\n",
    "        val = \"CRT\"\n",
    "    elif row['Major/Named'] == \"Named\":\n",
    "        val = \"CRT\"\n",
    "    elif row['Major/Named'] == \"Dheeraj\":\n",
    "        val = \"Non-CRT\"\n",
    "    else:\n",
    "        val = \"NA\"\n",
    "    return val"
   ]
  },
  {
   "cell_type": "code",
   "execution_count": 240,
   "metadata": {},
   "outputs": [],
   "source": [
    "invoices3['CRT'] = invoices3.apply(f, axis=1)"
   ]
  },
  {
   "cell_type": "markdown",
   "metadata": {},
   "source": [
    "### Rearranging Columns"
   ]
  },
  {
   "cell_type": "code",
   "execution_count": 241,
   "metadata": {},
   "outputs": [],
   "source": [
    "invoices3 = invoices3[['Total Rebate (LC)',\n",
    " 'CRT',\n",
    " 'Region',\n",
    " 'Major/Named',\n",
    " 'Customer',\n",
    " 'STF Number',\n",
    " 'STF Date',\n",
    " 'Cust PO No.',\n",
    " 'Customer PO Date',\n",
    " 'Customer Name',\n",
    " 'Customer GSTIN Number',\n",
    " 'Customer Credit Period',\n",
    " 'Billing Address',\n",
    " 'Shipping Address',\n",
    " 'Softcell Invoice Number',\n",
    " 'Softcell Invoice Date',\n",
    " 'SBU',\n",
    " 'Principal',\n",
    " 'Product Name',\n",
    " 'Product Code',\n",
    " 'HSN / SAC Code',\n",
    " 'License Type',\n",
    " 'Type',\n",
    " 'Quantity',\n",
    " 'Selling Price (Per Unit)',\n",
    " 'Selling Amount',\n",
    " 'ServiceTax Amount',\n",
    " 'SBCESS',\n",
    " 'KKCESS',\n",
    " 'VAT %',\n",
    " 'VAT Amount',\n",
    " 'CST %',\n",
    " 'CST Amount',\n",
    " 'FRT %',\n",
    " 'FRT Amount',\n",
    " 'Octroi %',\n",
    " 'Octroi Amount',\n",
    " 'CST (C-FORM) %',\n",
    " 'CST (C-FORM) Amount',\n",
    " 'CGST %',\n",
    " 'CGST Amount',\n",
    " 'SGST %',\n",
    " 'SGST Amount',\n",
    " 'IGST %',\n",
    " 'IGST Amount',\n",
    " 'UTGST %',\n",
    " 'UTGST Amount',\n",
    " 'Gross Total',\n",
    " 'Billing Branch',\n",
    " 'Purchase Price (Per Unit)',\n",
    " 'Purchase Amount(PO Price*Allocated Quantity)',\n",
    " 'Buying Price (Per Unit)',\n",
    " 'Buying Amount(STF Price*Allocated Quantity)',\n",
    " 'Profit as per PO',\n",
    " 'Profit as per STF',\n",
    " 'GRN Amount(GRN Price*Allocated Quantity)',\n",
    " 'Profit as per GRN(Invoice Based)',\n",
    " 'Profit as per GRN(STF Based)',\n",
    " 'PO Number',\n",
    " 'Po Date',\n",
    " 'Supplier',\n",
    " 'Requested By',\n",
    " 'Sales Specialist',\n",
    " 'Branch Name',\n",
    " 'STF Status',\n",
    " 'Payment Contact Name',\n",
    " 'Payment Contact Email',\n",
    " 'Order Information Contact Name',\n",
    " 'Order Information Email',\n",
    " 'Order Information Contact Number',\n",
    " 'Commercial Remarks',\n",
    " 'Invoice Created By',\n",
    " 'invoice Created On',\n",
    " 'Exemption',\n",
    " 'TDS',\n",
    " 'Is Cgrn',\n",
    " 'CGRN Quantity',\n",
    "]]"
   ]
  },
  {
   "cell_type": "markdown",
   "metadata": {},
   "source": [
    "### Exporting the final data to a .csv file"
   ]
  },
  {
   "cell_type": "code",
   "execution_count": 242,
   "metadata": {},
   "outputs": [],
   "source": [
    "invoices3.to_excel('CRT Submission Report.xlsx')"
   ]
  },
  {
   "cell_type": "markdown",
   "metadata": {},
   "source": [
    "### Using Widgets"
   ]
  },
  {
   "cell_type": "code",
   "execution_count": 243,
   "metadata": {},
   "outputs": [],
   "source": [
    "import ipywidgets as widgets\n",
    "from IPython.display import display\n",
    "from ipywidgets import interactive\n",
    "from ipywidgets import interact, interactive, fixed, interact_manual\n",
    "\n",
    "ss = pd.Series(invoices3['Sales Specialist']).unique()\n",
    "ss1 = list(ss)\n",
    "ss2 = list.sort(ss1)"
   ]
  },
  {
   "cell_type": "markdown",
   "metadata": {},
   "source": [
    "### Sales Person's CRT Rebate"
   ]
  },
  {
   "cell_type": "code",
   "execution_count": 15,
   "metadata": {},
   "outputs": [],
   "source": [
    "def f(x):\n",
    "    return x\n",
    "w = interactive(f, x=ss1)\n",
    "display(w)"
   ]
  },
  {
   "cell_type": "code",
   "execution_count": 16,
   "metadata": {},
   "outputs": [],
   "source": [
    "fetch_ss_name = w.result\n",
    "ss_TotReb = invoices3.loc[invoices3['Sales Specialist'] == fetch_ss_name, 'Total Rebate (LC)'].sum()\n",
    "ss_TotBill = invoices3.loc[invoices3['Sales Specialist'] == fetch_ss_name, 'Gross Total'].sum()\n",
    "print(\"Total Billing for \" + str(fetch_ss_name) + \": INR\", ss_TotBill)\n",
    "print(\"Total CRT rebate for \" + str(fetch_ss_name) + \": INR\", ss_TotReb)"
   ]
  },
  {
   "cell_type": "markdown",
   "metadata": {},
   "source": [
    "### Branch-wise CRT Rebate"
   ]
  },
  {
   "cell_type": "code",
   "execution_count": 8,
   "metadata": {},
   "outputs": [],
   "source": [
    "branch_TotRebate = invoices3.groupby(['Branch Name']).sum()\n",
    "branch_TotRebate[['Total Rebate (LC)']]"
   ]
  },
  {
   "cell_type": "code",
   "execution_count": 9,
   "metadata": {},
   "outputs": [],
   "source": [
    "x = branch_TotRebate.index.values\n",
    "y = list(branch_TotRebate['Total Rebate (LC)'])\n",
    "\n",
    "plt.figure(figsize=[15,5])\n",
    "\n",
    "plt.barh(x, y)\n",
    "\n",
    "plt.xlabel(\"CRT Rebate, INR\")\n",
    "plt.ylabel(\"Branch Name\")\n",
    "plt.title(\"Brach-wise CRT Rebate\", fontsize=15)\n",
    "\n",
    "plt.show()"
   ]
  },
  {
   "cell_type": "markdown",
   "metadata": {},
   "source": [
    "### Branch-wise Billing for JAS-2018"
   ]
  },
  {
   "cell_type": "code",
   "execution_count": 10,
   "metadata": {},
   "outputs": [],
   "source": [
    "branch_billing = invoices3.groupby(['Branch Name']).sum()\n",
    "branch_billing[['Gross Total']]"
   ]
  },
  {
   "cell_type": "code",
   "execution_count": 11,
   "metadata": {},
   "outputs": [],
   "source": [
    "fig, ax = plt.subplots()\n",
    "\n",
    "cmap = plt.get_cmap(\"tab20c\")\n",
    "colors = cmap(np.arange(40))\n",
    "\n",
    "x1 = list(branch_billing['Gross Total'])\n",
    "labels1 = branch_billing.index.values\n",
    "\n",
    "ax.pie(x=x1, labels=labels1, radius=3, colors=colors, wedgeprops = {'width': 0.6})\n",
    "ax.set(aspect='equal')\n",
    "\n",
    "x2 = list(branch_TotRebate['Total Rebate (LC)'])\n",
    "labels2 = branch_TotRebate.index.values\n",
    "\n",
    "ax.pie(x=x2, labels=labels2, radius=1.6, colors=colors, wedgeprops = {'width': 0.6})\n",
    "ax.set(aspect='equal')\n",
    "\n",
    "plt.title(\"Brach-wise Billing and CRT Rebate, INR\", fontsize=20, pad=200 )\n",
    "\n",
    "plt.show()"
   ]
  },
  {
   "cell_type": "markdown",
   "metadata": {},
   "source": [
    "### Daily Billing Generation and CRT Submission in INR"
   ]
  },
  {
   "cell_type": "code",
   "execution_count": 12,
   "metadata": {},
   "outputs": [],
   "source": [
    "weeks = pd.DataFrame(invoices3[['Softcell Invoice Date', 'Gross Total', 'Total Rebate (LC)']])\n",
    "\n",
    "import datetime\n",
    "import time\n",
    "from datetime import datetime, timedelta\n",
    "\n",
    "weeks1 = pd.Series(invoices3['Softcell Invoice Date'])\n",
    "\n",
    "count = 0\n",
    "weeks2 = []\n",
    "for date in weeks1:\n",
    "    date_converted = datetime.strptime(str(date), \"%d/%m/%Y\")\n",
    "    weeknum = (datetime.date(date_converted).isocalendar()[1])-26\n",
    "    weeks2.append(weeknum)\n",
    "    count += 1\n",
    "\n",
    "weeks3 = pd.Series(weeks2)  \n",
    "weeks.insert(loc=0, column='Week Number', value=weeks3)\n",
    "\n",
    "weeks4 = weeks.groupby(['Softcell Invoice Date'])[['Gross Total', 'Total Rebate (LC)']].sum()\n",
    "weeks4\n",
    "\n",
    "fig, ax = plt.subplots(figsize=(20,5))\n",
    "\n",
    "x1 = list(weeks4.index.values)\n",
    "y1 = list(weeks4['Gross Total'])\n",
    "\n",
    "p1 = ax.plot(x1, y1, label='Billing', linewidth=4)\n",
    "\n",
    "x2 = list(weeks4.index.values)\n",
    "y2 = list(weeks4['Total Rebate (LC)'])\n",
    "p2 = ax.plot(x2, y2, label='CRT Rebate', linewidth=4)\n",
    "\n",
    "plt.legend((p1[0], p2[0]), ('Billing', 'CRT Rebate'))\n",
    "plt.xlabel(\"Date\", fontsize=15)\n",
    "plt.ylabel(\"Amount INR\", fontsize=15)\n",
    "\n",
    "plt.title(\"Daily Billing Generation and CRT Submissions, INR\", fontsize=20)\n",
    "plt.show()"
   ]
  },
  {
   "cell_type": "markdown",
   "metadata": {},
   "source": [
    "### Weekly Billing Generation and CRT Submission in INR"
   ]
  },
  {
   "cell_type": "code",
   "execution_count": 13,
   "metadata": {},
   "outputs": [],
   "source": [
    "weeks = pd.DataFrame(invoices3[['Softcell Invoice Date', 'Gross Total', 'Total Rebate (LC)']])\n",
    "\n",
    "import datetime\n",
    "import time\n",
    "from datetime import datetime, timedelta\n",
    "\n",
    "weeks1 = pd.Series(invoices3['Softcell Invoice Date'])\n",
    "\n",
    "count = 0\n",
    "weeks2 = []\n",
    "for date in weeks1:\n",
    "    date_converted = datetime.strptime(str(date), \"%d/%m/%Y\")\n",
    "    weeknum = (datetime.date(date_converted).isocalendar()[1])-26\n",
    "    weeks2.append(weeknum)\n",
    "    count += 1\n",
    "\n",
    "weeks3 = pd.Series(weeks2)  \n",
    "weeks.insert(loc=0, column='Week Number', value=weeks3)\n",
    "\n",
    "weeks4 = weeks.groupby(['Week Number'])[['Gross Total', 'Total Rebate (LC)']].sum()\n",
    "weeks4\n",
    "\n",
    "fig, ax = plt.subplots(figsize=(10,5))\n",
    "\n",
    "x1 = list(weeks4.index.values)\n",
    "y1 = list(weeks4['Gross Total'])\n",
    "\n",
    "p1 = ax.plot(x1, y1, label='Billing', linewidth=4)\n",
    "\n",
    "x2 = list(weeks4.index.values)\n",
    "y2 = list(weeks4['Total Rebate (LC)'])\n",
    "p2 = ax.plot(x2, y2, label='CRT Rebate', linewidth=4)\n",
    "\n",
    "plt.title(\"Weekly Billing Generation and CRT Submissions, INR\", fontsize=20)\n",
    "plt.xlabel(\"Week Number\", fontsize=15)\n",
    "plt.ylabel(\"Amount INR\", fontsize=15)\n",
    "\n",
    "plt.legend((p1[0], p2[0]), ('Billing', 'CRT Rebate'))\n",
    "\n",
    "plt.show()"
   ]
  },
  {
   "cell_type": "code",
   "execution_count": 14,
   "metadata": {},
   "outputs": [],
   "source": [
    "ss_billing = invoices3.groupby(['Sales Specialist']).sum()\n",
    "ss_billing[['Gross Total']]\n",
    "\n",
    "ss_rebate = invoices3.groupby(['Sales Specialist']).sum()\n",
    "ss_rebate[['Total Rebate (LC)']]\n",
    "\n",
    "fig, ax = plt.subplots(1,1, figsize=(20,10))\n",
    "#ax1, ax2 = ax.flatten()\n",
    "\n",
    "x1 = list(ss_billing.index.values)\n",
    "y1 = list(ss_billing['Gross Total'])\n",
    "\n",
    "ax.bar(x1, y1, label='Billing')\n",
    "plt.xticks(x1, rotation='vertical', fontsize=15)\n",
    "\n",
    "x2 = list(ss_rebate.index.values)\n",
    "y2 = list(ss_rebate['Total Rebate (LC)'])\n",
    "\n",
    "ax.bar(x2, y2, label='CRT Rebate')\n",
    "plt.xticks(x2)\n",
    "\n",
    "plt.title(\"Achievement by Each Sales Person\", fontsize=20)\n",
    "plt.xlabel(\"Week Number\", fontsize=15)\n",
    "plt.ylabel(\"Amount INR\", fontsize=15)\n",
    "\n",
    "plt.legend((p1[0], p2[0]), ('Billing', 'CRT Rebate'))\n",
    "\n",
    "plt.show()\n"
   ]
  }
 ],
 "metadata": {
  "kernelspec": {
   "display_name": "Python 3",
   "language": "python",
   "name": "python3"
  },
  "language_info": {
   "codemirror_mode": {
    "name": "ipython",
    "version": 3
   },
   "file_extension": ".py",
   "mimetype": "text/x-python",
   "name": "python",
   "nbconvert_exporter": "python",
   "pygments_lexer": "ipython3",
   "version": "3.6.6"
  }
 },
 "nbformat": 4,
 "nbformat_minor": 2
}
