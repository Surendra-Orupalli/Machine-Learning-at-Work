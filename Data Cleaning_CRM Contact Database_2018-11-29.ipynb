{
 "cells": [
  {
   "cell_type": "markdown",
   "metadata": {},
   "source": [
    "#  <font color='maroon'>Cleaning Emails Addresses from CRM Database</font>"
   ]
  },
  {
   "cell_type": "markdown",
   "metadata": {},
   "source": [
    "## Import Libraries"
   ]
  },
  {
   "cell_type": "code",
   "execution_count": 14,
   "metadata": {},
   "outputs": [],
   "source": [
    "import pandas as pd\n",
    "import numpy as np\n",
    "import matplotlib as plt\n",
    "import re"
   ]
  },
  {
   "cell_type": "markdown",
   "metadata": {},
   "source": [
    "## Importing contact data from CRM"
   ]
  },
  {
   "cell_type": "code",
   "execution_count": 15,
   "metadata": {},
   "outputs": [],
   "source": [
    "contacts = pd.read_excel(\"/Users/surendraorupalli/Documents/Softcell Apple SBU/Marketing/Emailers/Softcell_Customer Contact Data_2018-11-15.xlsx\")"
   ]
  },
  {
   "cell_type": "code",
   "execution_count": 16,
   "metadata": {},
   "outputs": [
    {
     "data": {
      "text/plain": [
       "(65535, 15)"
      ]
     },
     "execution_count": 16,
     "metadata": {},
     "output_type": "execute_result"
    }
   ],
   "source": [
    "contacts.shape"
   ]
  },
  {
   "cell_type": "code",
   "execution_count": 17,
   "metadata": {},
   "outputs": [
    {
     "data": {
      "text/html": [
       "<div>\n",
       "<style scoped>\n",
       "    .dataframe tbody tr th:only-of-type {\n",
       "        vertical-align: middle;\n",
       "    }\n",
       "\n",
       "    .dataframe tbody tr th {\n",
       "        vertical-align: top;\n",
       "    }\n",
       "\n",
       "    .dataframe thead th {\n",
       "        text-align: right;\n",
       "    }\n",
       "</style>\n",
       "<table border=\"1\" class=\"dataframe\">\n",
       "  <thead>\n",
       "    <tr style=\"text-align: right;\">\n",
       "      <th></th>\n",
       "      <th>Customer Name</th>\n",
       "      <th>Softcell Branch</th>\n",
       "      <th>Contact Name</th>\n",
       "      <th>Designation</th>\n",
       "      <th>Department</th>\n",
       "      <th>Role</th>\n",
       "      <th>Level</th>\n",
       "      <th>Email id</th>\n",
       "      <th>Contact City</th>\n",
       "      <th>Mobile No</th>\n",
       "      <th>Direct No</th>\n",
       "      <th>Board No</th>\n",
       "      <th>Extension</th>\n",
       "      <th>Subscribe to mailing list</th>\n",
       "      <th>Fax No</th>\n",
       "    </tr>\n",
       "  </thead>\n",
       "  <tbody>\n",
       "  </tbody>\n",
       "</table>\n",
       "</div>"
      ],
      "text/plain": [
       "Empty DataFrame\n",
       "Columns: [Customer Name, Softcell Branch, Contact Name, Designation, Department, Role, Level, Email id, Contact City, Mobile No, Direct No, Board No, Extension, Subscribe to mailing list, Fax No]\n",
       "Index: []"
      ]
     },
     "execution_count": 17,
     "metadata": {},
     "output_type": "execute_result"
    }
   ],
   "source": [
    "contacts.head(0)"
   ]
  },
  {
   "cell_type": "markdown",
   "metadata": {},
   "source": [
    "## Splitting multiple emails"
   ]
  },
  {
   "cell_type": "code",
   "execution_count": 18,
   "metadata": {},
   "outputs": [],
   "source": [
    "email_splits_0 = contacts['Email id'].str.split(pat=',', expand=True)\n",
    "emails_0 = email_splits_0.iloc[:, 0]\n",
    "\n",
    "email_splits_1 = emails_0.str.split(pat='/', expand=True)\n",
    "emails_1 = email_splits_1.iloc[:, 0]\n",
    "\n",
    "email_splits_2_000 = emails_1.str.split(pat=\"<\", expand=True)\n",
    "emails_2_000 = email_splits_2_000.iloc[:, 0]\n",
    "\n",
    "email_splits_2_001 = emails_2_000.str.split(pat=\";\", expand=True)\n",
    "emails_2_001 = email_splits_2_001.iloc[:, 0]"
   ]
  },
  {
   "cell_type": "markdown",
   "metadata": {},
   "source": [
    "## Removing special characters"
   ]
  },
  {
   "cell_type": "code",
   "execution_count": 19,
   "metadata": {},
   "outputs": [],
   "source": [
    "email_splits_3_000 = emails_2_001.apply(lambda st: st[st.find(\"<\")+1:st.find(\">\")+100])\n",
    "emails_3_000 = email_splits_3_000\n",
    "\n",
    "email_splits_3_001 = emails_3_000.apply(lambda st: st[st.find(\"(\")+1:st.find(\")\")+100])\n",
    "emails_3_001 = email_splits_3_001\n",
    "\n",
    "email_splits_3_002 = emails_3_001.apply(lambda st: st[st.find(\"[\")+1:st.find(\"]\")+100])\n",
    "emails_3_002 = email_splits_3_002\n",
    "\n",
    "email_splits_3_003 = emails_3_002.apply(lambda st: st[st.find(\":\")+1:st.find(\":\")+100])\n",
    "emails_3_003 = email_splits_3_003"
   ]
  },
  {
   "cell_type": "markdown",
   "metadata": {},
   "source": [
    "## Removing special characters"
   ]
  },
  {
   "cell_type": "code",
   "execution_count": 20,
   "metadata": {},
   "outputs": [],
   "source": [
    "email_splits_4 = emails_3_003.str.replace(\">\", \"\", regex=True)\n",
    "emails_4 = email_splits_4\n",
    "\n",
    "email_splits_5 = emails_4.str.replace(\"/\", \"\", regex=True)\n",
    "emails_5 = email_splits_5\n",
    "\n",
    "email_splits_6 = emails_5.str.replace('/', \"\", regex=True)\n",
    "emails_6 = email_splits_6\n",
    "\n",
    "email_splits_7 = emails_6.str.replace(\"'\", \"\", regex=True)\n",
    "emails_7 = email_splits_7\n",
    "\n",
    "email_splits_8 = emails_7.str.replace('\"', \"\", regex=True)\n",
    "emails_8 = email_splits_8\n",
    "\n",
    "email_splits_9 = emails_8.str.replace(')', \"\", regex=True)\n",
    "emails_9 = email_splits_9\n",
    "\n",
    "email_splits_10 = emails_9.str.replace('(', \"\", regex=True)\n",
    "emails_10 = email_splits_10\n",
    "\n",
    "email_splits_11 = emails_10.str.replace(']', \"\", regex=True)\n",
    "emails_11 = email_splits_11\n",
    "\n",
    "email_splits_12 = emails_11.str.replace(' ', \"\", regex=True)\n",
    "emails_12 = email_splits_12"
   ]
  },
  {
   "cell_type": "markdown",
   "metadata": {},
   "source": [
    "## Exporting clean email addresses"
   ]
  },
  {
   "cell_type": "code",
   "execution_count": 21,
   "metadata": {},
   "outputs": [],
   "source": [
    "email_splits_12.to_csv('001_Contacts_Clean.csv')"
   ]
  },
  {
   "cell_type": "code",
   "execution_count": 22,
   "metadata": {},
   "outputs": [],
   "source": [
    "contacts['Email Address'] = emails_12"
   ]
  },
  {
   "cell_type": "markdown",
   "metadata": {},
   "source": [
    "## Drop rows that does not contain @ character"
   ]
  },
  {
   "cell_type": "code",
   "execution_count": 23,
   "metadata": {},
   "outputs": [
    {
     "name": "stdout",
     "output_type": "stream",
     "text": [
      "(65188, 15)\n"
     ]
    }
   ],
   "source": [
    "# Drop rows that does not contain @ character\n",
    "contacts_001 = contacts[contacts['Email Address'].str.contains(\"@\")]\n",
    "contacts_002 = contacts_001.drop(columns=['Email id'])\n",
    "print(contacts_002.shape)"
   ]
  },
  {
   "cell_type": "markdown",
   "metadata": {},
   "source": [
    "## Exporting contacts data that has CLEAN email addresses"
   ]
  },
  {
   "cell_type": "code",
   "execution_count": 24,
   "metadata": {},
   "outputs": [],
   "source": [
    "contacts_002.to_csv('002_Contacts_Ready.csv')\n",
    "contacts_ready = contacts_002"
   ]
  },
  {
   "cell_type": "markdown",
   "metadata": {},
   "source": [
    "#### Filtered: CTOs, CIOs, Directors, Heads"
   ]
  },
  {
   "cell_type": "code",
   "execution_count": 25,
   "metadata": {},
   "outputs": [
    {
     "name": "stdout",
     "output_type": "stream",
     "text": [
      "(4866, 15)\n"
     ]
    }
   ],
   "source": [
    "contacts_heads_cxo = contacts_ready[(contacts_ready['Designation'].str.contains('cto', flags=re.IGNORECASE, na=False))\n",
    "                        | (contacts_ready['Designation'].str.contains('cio', flags=re.IGNORECASE, na=False)) \n",
    "                        | (contacts_ready['Designation'].str.contains('cfo', flags=re.IGNORECASE, na=False)) \n",
    "                        | (contacts_ready['Designation'].str.contains('chro', flags=re.IGNORECASE, na=False))\n",
    "                        | (contacts_ready['Designation'].str.contains('ceo', flags=re.IGNORECASE, na=False))\n",
    "                        | (contacts_ready['Designation'].str.contains('chief', flags=re.IGNORECASE, na=False))  \n",
    "                        | (contacts_ready['Designation'].str.contains('president', flags=re.IGNORECASE, na=False))             \n",
    "                        | (contacts_ready['Designation'].str.contains('director', flags=re.IGNORECASE, na=False)) \n",
    "                        | (contacts_ready['Designation'].str.contains('head', flags=re.IGNORECASE, na=False))]\n",
    "\n",
    "print(contacts_heads_cxo.shape)\n",
    "contacts_heads_cxo.to_csv('005_Contacts_Heads_CXO.csv')"
   ]
  },
  {
   "cell_type": "markdown",
   "metadata": {},
   "source": [
    "#### Filtered: Purchase Managers"
   ]
  },
  {
   "cell_type": "code",
   "execution_count": 26,
   "metadata": {},
   "outputs": [
    {
     "name": "stdout",
     "output_type": "stream",
     "text": [
      "(498, 15)\n"
     ]
    }
   ],
   "source": [
    "contacts_managers_purchase = contacts_ready[(contacts_ready['Designation'].str.contains('manager', flags=re.IGNORECASE, na=False)) \n",
    "                                 & (contacts_ready['Department'].str.contains('purchase', flags=re.IGNORECASE, na=False))]\n",
    "\n",
    "print(contacts_managers_purchase.shape)\n",
    "contacts_managers_purchase.to_csv('006_Contacts_Managers_Purchase.csv')"
   ]
  },
  {
   "cell_type": "markdown",
   "metadata": {},
   "source": [
    "#### Filtered: Purchase Heads"
   ]
  },
  {
   "cell_type": "code",
   "execution_count": 27,
   "metadata": {},
   "outputs": [
    {
     "name": "stdout",
     "output_type": "stream",
     "text": [
      "(99, 15)\n"
     ]
    }
   ],
   "source": [
    "contacts_heads_purchase = contacts_ready[(contacts_ready['Designation'].str.contains('head', flags=re.IGNORECASE, na=False)) \n",
    "                                 & (contacts_ready['Department'].str.contains('purchase', flags=re.IGNORECASE, na=False))]\n",
    "\n",
    "print(contacts_heads_purchase.shape)\n",
    "contacts_heads_purchase.to_csv('007_Contacts_Heads_Purchase.csv')"
   ]
  },
  {
   "cell_type": "markdown",
   "metadata": {},
   "source": [
    "#### Filtered: Finance Managers"
   ]
  },
  {
   "cell_type": "code",
   "execution_count": 28,
   "metadata": {},
   "outputs": [
    {
     "name": "stdout",
     "output_type": "stream",
     "text": [
      "(98, 15)\n"
     ]
    }
   ],
   "source": [
    "contacts_managers_finance = contacts_ready[(contacts_ready['Designation'].str.contains('manager', flags=re.IGNORECASE, na=False)) \n",
    "                                 & (contacts_ready['Department'].str.contains('finance', flags=re.IGNORECASE, na=False))]\n",
    "\n",
    "print(contacts_managers_finance.shape)\n",
    "contacts_managers_finance.to_csv('008_Contacts_Managers_Finance.csv')"
   ]
  },
  {
   "cell_type": "markdown",
   "metadata": {},
   "source": [
    "#### Filtered: Finance Heads"
   ]
  },
  {
   "cell_type": "code",
   "execution_count": 29,
   "metadata": {},
   "outputs": [
    {
     "name": "stdout",
     "output_type": "stream",
     "text": [
      "(24, 15)\n"
     ]
    }
   ],
   "source": [
    "contacts_heads_finance = contacts_ready[(contacts_ready['Designation'].str.contains('head', flags=re.IGNORECASE, na=False)) \n",
    "                                 & (contacts_ready['Department'].str.contains('finance', flags=re.IGNORECASE, na=False))]\n",
    "print(contacts_heads_finance.shape)\n",
    "contacts_heads_finance.to_csv('009_Contacts_Heads_Finance.csv')"
   ]
  },
  {
   "cell_type": "markdown",
   "metadata": {},
   "source": [
    "#### Filtered: IT Managers"
   ]
  },
  {
   "cell_type": "code",
   "execution_count": 30,
   "metadata": {},
   "outputs": [
    {
     "name": "stdout",
     "output_type": "stream",
     "text": [
      "(6784, 15)\n"
     ]
    }
   ],
   "source": [
    "contacts_managers_it = contacts_ready[(contacts_ready['Designation'].str.contains('manager', flags=re.IGNORECASE, na=False)) \n",
    "                                 & (contacts_ready['Department'].str.contains('it', flags=re.IGNORECASE, na=False))]\n",
    "\n",
    "print(contacts_managers_it.shape)\n",
    "contacts_managers_it.to_csv('010_Contacts_Managers_IT.csv')"
   ]
  },
  {
   "cell_type": "markdown",
   "metadata": {},
   "source": [
    "#### Filtered: IT Heads"
   ]
  },
  {
   "cell_type": "code",
   "execution_count": 31,
   "metadata": {},
   "outputs": [
    {
     "name": "stdout",
     "output_type": "stream",
     "text": [
      "(1619, 15)\n"
     ]
    }
   ],
   "source": [
    "contacts_heads_it = contacts_ready[(contacts_ready['Designation'].str.contains('head', flags=re.IGNORECASE, na=False)) \n",
    "                                 & (contacts_ready['Department'].str.contains('it', flags=re.IGNORECASE, na=False))]\n",
    "\n",
    "print(contacts_heads_it.shape)\n",
    "contacts_heads_it.to_csv('011_Contacts_Heads_IT.csv')"
   ]
  },
  {
   "cell_type": "markdown",
   "metadata": {},
   "source": [
    "#### Filtered: System Admin, Network Admin, IT Admin"
   ]
  },
  {
   "cell_type": "code",
   "execution_count": 32,
   "metadata": {},
   "outputs": [
    {
     "name": "stdout",
     "output_type": "stream",
     "text": [
      "(1836, 15)\n"
     ]
    }
   ],
   "source": [
    "\n",
    "contacts_admins_it = contacts_ready[(contacts_ready['Designation'].str.contains('admin', flags=re.IGNORECASE, na=False)) \n",
    "                                 & (contacts_ready['Department'].str.contains('IT', flags=re.IGNORECASE, na=False))]\n",
    "\n",
    "print(contacts_admins_it.shape)\n",
    "contacts_admins_it.to_csv('012_Contacts_Admins_IT.csv')"
   ]
  },
  {
   "cell_type": "code",
   "execution_count": null,
   "metadata": {},
   "outputs": [],
   "source": []
  }
 ],
 "metadata": {
  "kernelspec": {
   "display_name": "Python 3",
   "language": "python",
   "name": "python3"
  },
  "language_info": {
   "codemirror_mode": {
    "name": "ipython",
    "version": 3
   },
   "file_extension": ".py",
   "mimetype": "text/x-python",
   "name": "python",
   "nbconvert_exporter": "python",
   "pygments_lexer": "ipython3",
   "version": "3.6.6"
  }
 },
 "nbformat": 4,
 "nbformat_minor": 2
}
