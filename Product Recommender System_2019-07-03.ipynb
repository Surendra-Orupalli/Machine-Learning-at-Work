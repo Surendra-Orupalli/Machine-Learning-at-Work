{
 "cells": [
  {
   "cell_type": "markdown",
   "metadata": {},
   "source": [
    "# Product Recommender System for Mobility BU, 26-Jul-2019"
   ]
  },
  {
   "cell_type": "markdown",
   "metadata": {},
   "source": [
    "##### This program using various libraries of Python to gives a recommendation to upsell or cross sell using data of past purchases by customers.\n",
    "##### For any clarifications contact Surendra Orupalli, surendrao@softcell.com"
   ]
  },
  {
   "cell_type": "markdown",
   "metadata": {},
   "source": [
    "###### ---------------------------------------------------------------------------------------------------------------------------------------------------------------------"
   ]
  },
  {
   "cell_type": "markdown",
   "metadata": {},
   "source": [
    "### Collaborative Filtering\n",
    "Collaborative filtering method was used for creating this recommender system (recsys). Collaborative filtering leverages the power of crowd. The intuition behind collaborative filtering is that if a customer EFG Bank purchased products X and Y, and if another customer LMN Bank purchased product X, there is a fair bit of chance that LMN Bank will buy the product Y as well.\n",
    "\n",
    "### Similarity Metric\n",
    "The similarity metric used for collaborative filtering method is correlation coefficient between a product purchased by various customers with all other products purchased by the same set of customers. These correlation coefficients are used to create a correlation matrix. Correlation coefficients and number of customers who have purchased various products have been chosen as the parameters to arrive at a recommended list to products.\n",
    "\n",
    "### Data Used\n",
    "The data used here is the all invoice data fromt the time when the Mobility BU started invoicing customer which was from December 2012.\n"
   ]
  },
  {
   "cell_type": "markdown",
   "metadata": {},
   "source": [
    "## Fireup Python Libraries"
   ]
  },
  {
   "cell_type": "code",
   "execution_count": 22,
   "metadata": {},
   "outputs": [],
   "source": [
    "import pandas as pd\n",
    "import numpy as np\n",
    "import matplotlib as plt\n",
    "import seaborn as sns"
   ]
  },
  {
   "cell_type": "markdown",
   "metadata": {},
   "source": [
    "## Reading the required files"
   ]
  },
  {
   "cell_type": "code",
   "execution_count": 23,
   "metadata": {},
   "outputs": [],
   "source": [
    "invoice_data = pd.read_excel(\"/Users/surendraorupalli/Documents/Softcell Apple SBU/Operations/Python Programs/Recommender System/QBR Data_2019-06-30.xlsx\")\n",
    "invoice_data.head(0)"
   ]
  },
  {
   "cell_type": "code",
   "execution_count": 24,
   "metadata": {},
   "outputs": [],
   "source": [
    "print(invoice_data.head(0))"
   ]
  },
  {
   "cell_type": "markdown",
   "metadata": {},
   "source": [
    "## Matrix of 'Customer' purchasing various 'Product Code'. Values are sum of Quantity'."
   ]
  },
  {
   "cell_type": "code",
   "execution_count": 25,
   "metadata": {},
   "outputs": [],
   "source": [
    "invoice_data_quantity = invoice_data.pivot_table(index=\"Customer Name\", columns=\"Product Code\", values=\"Quantity\")\n",
    "invoice_data_quantity.head(10)"
   ]
  },
  {
   "cell_type": "markdown",
   "metadata": {},
   "source": [
    "## Enter a Product Code"
   ]
  },
  {
   "cell_type": "code",
   "execution_count": 26,
   "metadata": {},
   "outputs": [],
   "source": [
    "prod_code = input(\"Enter a Product Code: \")"
   ]
  },
  {
   "cell_type": "markdown",
   "metadata": {},
   "source": [
    "## Drop NaN values"
   ]
  },
  {
   "cell_type": "code",
   "execution_count": 27,
   "metadata": {},
   "outputs": [],
   "source": [
    "product_code_qty = invoice_data_quantity[prod_code]\n",
    "product_code_qty_noNA = invoice_data_quantity[prod_code].dropna()\n",
    "product_code_qty_noNA"
   ]
  },
  {
   "cell_type": "markdown",
   "metadata": {},
   "source": [
    "## Correlation of Product Code entered with all other Product Codes"
   ]
  },
  {
   "cell_type": "code",
   "execution_count": 28,
   "metadata": {},
   "outputs": [],
   "source": [
    "products_like_product_code = invoice_data_quantity.corrwith(product_code_qty)\n",
    "\n",
    "corr_product_code = pd.DataFrame(products_like_product_code, columns=['Correlation'])  \n",
    "corr_product_code.dropna(inplace=True)  \n",
    "print(corr_product_code.shape)\n",
    "corr_product_code.head(10)"
   ]
  },
  {
   "cell_type": "code",
   "execution_count": 29,
   "metadata": {},
   "outputs": [],
   "source": [
    "corr_product_code_sorted = corr_product_code.sort_values([\"Correlation\"], ascending=False)\n",
    "corr_product_code_sorted.head(10)"
   ]
  },
  {
   "cell_type": "markdown",
   "metadata": {},
   "source": [
    "## Joining correlation with customer counts"
   ]
  },
  {
   "cell_type": "code",
   "execution_count": 30,
   "metadata": {},
   "outputs": [],
   "source": [
    "customer_count = invoice_data.groupby(\"Product Code\").count()\n",
    "\n",
    "customer_count_sorted = customer_count.sort_values(\"Customer Name\", ascending=False)\n",
    "customer_count_sorted.head(10)"
   ]
  },
  {
   "cell_type": "code",
   "execution_count": 31,
   "metadata": {},
   "outputs": [],
   "source": [
    "corr_product_code_final = pd.merge(corr_product_code_sorted, customer_count_sorted, \n",
    "                                   how=\"left\", left_on=\"Product Code\", right_on=\"Product Code\")\n",
    "\n",
    "corr_product_code_final_001 = corr_product_code_final.sort_values([\"Correlation\", \"Customer Name\"], ascending=False)\n",
    "\n",
    "count_list = corr_product_code_final_001[\"Customer Name\"].tolist()\n",
    "\n",
    "count_list.sort(reverse=True)\n",
    "print(count_list)\n",
    "\n",
    "count_list_topten = count_list[11]\n",
    "print(count_list_topten)\n",
    "\n",
    "\n",
    "corr_product_code_final_002 = corr_product_code_final_001[(corr_product_code_final_001[\"Customer Name\"]>count_list_topten) \n",
    "                                                            & (corr_product_code_final_001[\"Correlation\"]>0.5)]\n",
    "\n",
    "\n",
    "corr_product_code_final_002"
   ]
  },
  {
   "cell_type": "code",
   "execution_count": 32,
   "metadata": {},
   "outputs": [],
   "source": [
    "corr_product_code_final_003 = pd.merge(corr_product_code_final_002, invoice_data, how=\"left\", left_on=\"Product Code\", right_on=\"Product Code\")"
   ]
  },
  {
   "cell_type": "markdown",
   "metadata": {},
   "source": [
    "## Get Recommended Product Details"
   ]
  },
  {
   "cell_type": "code",
   "execution_count": 33,
   "metadata": {},
   "outputs": [],
   "source": [
    "# Recommended Products Details\n",
    "recommended_product_code_list = corr_product_code_final_002.index.tolist()\n",
    "\n",
    "# Recommended-1 Product Details\n",
    "recommended_product_code_001 = recommended_product_code_list[0]\n",
    "recommended_product_name = invoice_data.loc[invoice_data['Product Code'] == recommended_product_code_001, ['Product Name']]\n",
    "recommended_product_name_001 = recommended_product_name.iloc[0,0]\n",
    "\n",
    "# Recommended-2 Product Details\n",
    "recommended_product_code_002 = recommended_product_code_list[1]\n",
    "recommended_product_name = invoice_data.loc[invoice_data['Product Code'] == recommended_product_code_002, ['Product Name']]\n",
    "recommended_product_name_002 = recommended_product_name.iloc[0,0]\n",
    "\n",
    "recommended_data = {'Product Code':[recommended_product_code_001, recommended_product_code_002],\n",
    "                 'Product Name': [recommended_product_name_001, recommended_product_name_002]}\n",
    "recommended_table = pd.DataFrame(data=recommended_data)\n",
    "\n",
    "recommended_table_001 = recommended_table.set_index('Product Code')\n",
    "recommended_table_001\n",
    "\n",
    "recommended_table_002 = recommended_table_001.drop(index=\"MN8X2HN/A\")\n",
    "recommended_table_003 = recommended_table_002.reset_index()"
   ]
  },
  {
   "cell_type": "markdown",
   "metadata": {},
   "source": [
    "## Get Product Purchased Details"
   ]
  },
  {
   "cell_type": "code",
   "execution_count": 34,
   "metadata": {},
   "outputs": [],
   "source": [
    "# Purchased Product Details\n",
    "purchased_product_code = prod_code\n",
    "purchased = invoice_data.loc[invoice_data['Product Code'] == prod_code, ['Product Name']]\n",
    "purchased_product_name = purchased.iloc[0,0]\n",
    "\n",
    "purchased_data = {'Product Code':[purchased_product_code],\n",
    "                 'Product Name':[purchased_product_name]}\n",
    "purchased_table = pd.DataFrame(data=purchased_data)"
   ]
  },
  {
   "cell_type": "markdown",
   "metadata": {},
   "source": []
  },
  {
   "cell_type": "markdown",
   "metadata": {},
   "source": [
    "## Product Purchased"
   ]
  },
  {
   "cell_type": "code",
   "execution_count": 35,
   "metadata": {},
   "outputs": [],
   "source": [
    "# Printing the product product list table without index column\n",
    "blankIndex=[''] * len(purchased_table)\n",
    "purchased_table.index=blankIndex\n",
    "purchased_table"
   ]
  },
  {
   "cell_type": "markdown",
   "metadata": {},
   "source": [
    "## Products Recommended"
   ]
  },
  {
   "cell_type": "code",
   "execution_count": 36,
   "metadata": {},
   "outputs": [],
   "source": [
    "# Printing the recommended product list table without index column\n",
    "blankIndex=[''] * len(recommended_table_003)\n",
    "recommended_table_003.index=blankIndex\n",
    "recommended_table_003"
   ]
  }
 ],
 "metadata": {
  "kernelspec": {
   "display_name": "Python 3",
   "language": "python",
   "name": "python3"
  },
  "language_info": {
   "codemirror_mode": {
    "name": "ipython",
    "version": 3
   },
   "file_extension": ".py",
   "mimetype": "text/x-python",
   "name": "python",
   "nbconvert_exporter": "python",
   "pygments_lexer": "ipython3",
   "version": "3.6.8"
  }
 },
 "nbformat": 4,
 "nbformat_minor": 2
}
